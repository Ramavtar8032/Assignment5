{
 "cells": [
  {
   "cell_type": "markdown",
   "id": "2d201343-cd0e-4b63-95ee-72a14c38e7a9",
   "metadata": {},
   "source": [
    "Q1:- Ans\n",
    "Object − Objects have states and behaviors. Example: A dog has states - color, name, breed as well as\n",
    "behaviors – wagging the tail, barking, eating. An object is an instance of a class. \n",
    "Class − A class can be defined as a template/blueprint that describes the behavior/state that \n",
    "the object of its type support."
   ]
  },
  {
   "cell_type": "code",
   "execution_count": 1,
   "id": "19c8443b-e5da-4c5b-8bc2-e8f6a82c6606",
   "metadata": {},
   "outputs": [
    {
     "name": "stdout",
     "output_type": "stream",
     "text": [
      "Name: Mountain Bike, Gears: 11 \n"
     ]
    }
   ],
   "source": [
    "# define a class\n",
    "class Bike:\n",
    "    name = \"\"\n",
    "    gear = 0\n",
    "\n",
    "# create object of class\n",
    "bike1 = Bike()\n",
    "\n",
    "# access attributes and assign new values\n",
    "bike1.gear = 11\n",
    "bike1.name = \"Mountain Bike\"\n",
    "\n",
    "print(f\"Name: {bike1.name}, Gears: {bike1.gear} \")"
   ]
  },
  {
   "cell_type": "markdown",
   "id": "3059da26-9f03-4948-a40a-a1b5c3a73b58",
   "metadata": {},
   "source": [
    " Q2:-Ans-> Inheritance, Polymorphism, Encapsulation and Abstraction"
   ]
  },
  {
   "cell_type": "markdown",
   "id": "30bd3e19-4bfb-453e-b1ff-987ed496b33a",
   "metadata": {},
   "source": [
    " Q3:-Ans->The Default __init__ Constructor in C++ and Java. Constructors are used to initializing the object’s state. The task of constructors is to initialize(assign values) to the data members of the class when an object of the class is created. Like methods, a constructor also contains a collection of statements(i.e. instructions) that are executed at the time of Object creation. It is run as soon as an object of a class is instantiated. The method is useful to do any initialization you want to do with your object."
   ]
  },
  {
   "cell_type": "code",
   "execution_count": 4,
   "id": "05b212a7-c3a3-4150-bf0a-2c90049af831",
   "metadata": {},
   "outputs": [
    {
     "name": "stdout",
     "output_type": "stream",
     "text": [
      "Hello, my name is Ramavtar Kumar\n"
     ]
    }
   ],
   "source": [
    "# A Sample class with init method\n",
    "class Person:\n",
    " \n",
    "    # init method or constructor\n",
    "    def __init__(self, name):\n",
    "        self.name = name\n",
    " \n",
    "    # Sample Method\n",
    "    def say_hi(self):\n",
    "        print('Hello, my name is', self.name)\n",
    " \n",
    " \n",
    "p = Person('Ramavtar Kumar')\n",
    "p.say_hi()"
   ]
  },
  {
   "cell_type": "markdown",
   "id": "b16fd7e2-1eb3-44eb-b19d-83a6f39aacf7",
   "metadata": {},
   "source": [
    "Q4:-Ans -> The self variable is used to represent the instance of the class which is often used in object-oriented programming. It works as a reference to the object. Python uses the self parameter to refer to instance attributes and methods of the class."
   ]
  },
  {
   "cell_type": "markdown",
   "id": "742b7a50-f709-4143-9810-0b3fbd4ef002",
   "metadata": {},
   "source": [
    "Q5:-Ans->Inheritance allows us to define a class that inherits all the methods and properties from another class. Parent class is the class being inherited from, also called base class. Child class is the class that inherits from another class, also called derived class."
   ]
  },
  {
   "cell_type": "code",
   "execution_count": 6,
   "id": "94554f01-3c3f-4519-813f-fe03af128702",
   "metadata": {},
   "outputs": [
    {
     "name": "stdout",
     "output_type": "stream",
     "text": [
      "dog barking\n",
      "Animal Speaking\n"
     ]
    }
   ],
   "source": [
    "class Animal:  \n",
    "    def speak(self):  \n",
    "        print(\"Animal Speaking\")  \n",
    "#child class Dog inherits the base class Animal  \n",
    "class Dog(Animal):  \n",
    "    def bark(self):  \n",
    "        print(\"dog barking\")  \n",
    "d = Dog()  \n",
    "d.bark()  \n",
    "d.speak()  "
   ]
  },
  {
   "cell_type": "code",
   "execution_count": null,
   "id": "1cc47ce8-2f6d-4fbf-b582-fce95459fe16",
   "metadata": {},
   "outputs": [],
   "source": []
  }
 ],
 "metadata": {
  "kernelspec": {
   "display_name": "Python 3 (ipykernel)",
   "language": "python",
   "name": "python3"
  },
  "language_info": {
   "codemirror_mode": {
    "name": "ipython",
    "version": 3
   },
   "file_extension": ".py",
   "mimetype": "text/x-python",
   "name": "python",
   "nbconvert_exporter": "python",
   "pygments_lexer": "ipython3",
   "version": "3.10.8"
  }
 },
 "nbformat": 4,
 "nbformat_minor": 5
}
