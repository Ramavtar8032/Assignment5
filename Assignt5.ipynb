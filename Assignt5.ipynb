{
 "cells": [
  {
   "cell_type": "code",
   "execution_count": 5,
   "id": "ae1dabe6-11c6-499a-b6ce-706e3201ca70",
   "metadata": {},
   "outputs": [
    {
     "name": "stdout",
     "output_type": "stream",
     "text": [
      "Original list of tuples:\n",
      "[('Sachin Tendulkar', 34357), ('Ricky Ponting', 27483), ('Jack Kallis', 25534), ('Virat Kohli', 24936)]\n",
      "\n",
      "Sorting the List of Tuples:\n",
      "[('Virat Kohli', 24936), ('Jack Kallis', 25534), ('Ricky Ponting', 27483), ('Sachin Tendulkar', 34357)]\n"
     ]
    }
   ],
   "source": [
    "# Q1:-Ans\n",
    "player_name = [('Sachin Tendulkar', 34357), ('Ricky Ponting', 27483), ('Jack Kallis', 25534), ('Virat Kohli', 24936)]\n",
    "print(\"Original list of tuples:\")\n",
    "print(player_name )\n",
    "player_name.sort(key = lambda x: x[1])\n",
    "print(\"\\nSorting the List of Tuples:\")\n",
    "print(player_name )"
   ]
  },
  {
   "cell_type": "code",
   "execution_count": 6,
   "id": "e334573f-7534-4a9c-861e-bd8fbc94c111",
   "metadata": {},
   "outputs": [
    {
     "name": "stdout",
     "output_type": "stream",
     "text": [
      "Original List:  [1, 2, 3, 4, 5, 6, 7, 8, 9, 10]\n",
      "Square the elements of the said list using map():\n",
      "[1, 4, 9, 16, 25, 36, 49, 64, 81, 100]\n"
     ]
    }
   ],
   "source": [
    "# Q2:-Ans\n",
    "def square_num(n):\n",
    "  return n * n\n",
    "nums = [1, 2, 3, 4, 5, 6, 7, 8, 9, 10]\n",
    "print(\"Original List: \",nums)\n",
    "result = map(square_num, nums)\n",
    "print(\"Square the elements of the said list using map():\")\n",
    "print(list(result))"
   ]
  },
  {
   "cell_type": "code",
   "execution_count": 8,
   "id": "9b364d8a-ac5d-4992-bacd-54996eaf50d4",
   "metadata": {},
   "outputs": [
    {
     "name": "stdout",
     "output_type": "stream",
     "text": [
      "Original list \n",
      "[1, 2, 3, 4, 5, 6, 7, 8, 9, 10]\n",
      "\n",
      "List of strings:\n",
      "['1', '2', '3', '4', '5', '6', '7', '8', '9', '10']\n"
     ]
    }
   ],
   "source": [
    "# Q3:-Ans\n",
    "nums_list = [1, 2, 3, 4, 5, 6, 7, 8, 9, 10] \n",
    "print(\"Original list \")\n",
    "print(nums_list)\n",
    "result_list = list(map(str,nums_list))\n",
    "print(\"\\nList of strings:\")\n",
    "print(result_list)\n"
   ]
  },
  {
   "cell_type": "code",
   "execution_count": 10,
   "id": "3563a404-cfc3-42d5-a769-6c15ba0af593",
   "metadata": {},
   "outputs": [
    {
     "name": "stdout",
     "output_type": "stream",
     "text": [
      "620448401733239439360000\n"
     ]
    }
   ],
   "source": [
    "# Q4:- Ans\n",
    "from functools import reduce \n",
    "\n",
    "nums = [1, 2, 3, 4]\n",
    "ans = reduce(lambda x, y: x * y, range(1,25))\n",
    "print(ans)"
   ]
  },
  {
   "cell_type": "code",
   "execution_count": 12,
   "id": "2b26c309-0c8f-4dcd-bd64-828c4df3db52",
   "metadata": {},
   "outputs": [
    {
     "name": "stdout",
     "output_type": "stream",
     "text": [
      "Original list of integers:\n",
      "[2, 3, 6, 9, 27, 60, 90, 120, 55, 46]\n",
      "\n",
      "divisible by 2 numbers from the said list:\n",
      "[2, 6, 60, 90, 120, 46]\n",
      "\n",
      "divisible by 3 numbers from the said list:\n",
      "[3, 6, 9, 27, 60, 90, 120]\n"
     ]
    }
   ],
   "source": [
    "# Q5:- Ans\n",
    "nums = [2, 3, 6, 9, 27, 60, 90, 120, 55, 46]\n",
    "print(\"Original list of integers:\")\n",
    "print(nums)\n",
    "print(\"\\ndivisible by 2 numbers from the said list:\")\n",
    "divBytwo = list(filter(lambda x: x%2 == 0, nums))\n",
    "print(divBytwo )\n",
    "print(\"\\ndivisible by 3 numbers from the said list:\")\n",
    "divByThree = list(filter(lambda x: x%3 == 0, nums))\n",
    "print(divByThree)"
   ]
  },
  {
   "cell_type": "code",
   "execution_count": 14,
   "id": "6579366d-5835-4e83-a8be-2d04c9f93854",
   "metadata": {},
   "outputs": [
    {
     "name": "stdout",
     "output_type": "stream",
     "text": [
      "Orginal list of strings:\n",
      "['python', 'php', 'aba', 'radar', 'level']\n",
      "\n",
      "List of palindromes:\n",
      "['php', 'aba', 'radar', 'level']\n"
     ]
    }
   ],
   "source": [
    "# Q6:-Ans\n",
    "texts = ['python', 'php', 'aba', 'radar', 'level']\n",
    "print(\"Orginal list of strings:\")\n",
    "print(texts) \n",
    "result = list(filter(lambda x: (x == \"\".join(reversed(x))), texts)) \n",
    "print(\"\\nList of palindromes:\")\n",
    "print(result)"
   ]
  },
  {
   "cell_type": "code",
   "execution_count": null,
   "id": "0642e57e-b8c3-4dc2-8192-c9513f721cef",
   "metadata": {},
   "outputs": [],
   "source": []
  }
 ],
 "metadata": {
  "kernelspec": {
   "display_name": "Python 3 (ipykernel)",
   "language": "python",
   "name": "python3"
  },
  "language_info": {
   "codemirror_mode": {
    "name": "ipython",
    "version": 3
   },
   "file_extension": ".py",
   "mimetype": "text/x-python",
   "name": "python",
   "nbconvert_exporter": "python",
   "pygments_lexer": "ipython3",
   "version": "3.10.8"
  }
 },
 "nbformat": 4,
 "nbformat_minor": 5
}
